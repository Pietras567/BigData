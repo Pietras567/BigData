{
 "cells": [
  {
   "metadata": {},
   "cell_type": "markdown",
   "source": [
    "# Big Data Task 2\n",
    "<b>Authors</b>\n",
    "<ul>\n",
    "    <li>Piotr Janiszek</li>\n",
    "    <li>Mateusz Dominiak</li>\n",
    "<ul>"
   ],
   "id": "8a77807f92f26ee"
  },
  {
   "metadata": {},
   "cell_type": "markdown",
   "source": "<h1>1. Charts & Analysis</h1>",
   "id": "c550fc3b0bffed0a"
  },
  {
   "metadata": {},
   "cell_type": "markdown",
   "source": "Imports",
   "id": "a060d41bafa729eb"
  },
  {
   "metadata": {},
   "cell_type": "code",
   "source": [
    "import pandas as pd\n",
    "import numpy as np\n",
    "import matplotlib.pyplot as plt\n",
    "import seaborn as sns"
   ],
   "id": "fbc121e30a2defb3",
   "outputs": [],
   "execution_count": null
  },
  {
   "metadata": {},
   "cell_type": "markdown",
   "source": "Data Loading",
   "id": "e99cea01c88e1d21"
  },
  {
   "metadata": {},
   "cell_type": "code",
   "source": [
    "df = pd.read_csv('data/combined.csv')\n",
    "df.head()"
   ],
   "id": "e333f9e2e64e828d",
   "outputs": [],
   "execution_count": null
  },
  {
   "metadata": {},
   "cell_type": "markdown",
   "source": "1.1. the number of new cases",
   "id": "ea650d7921c6a77"
  },
  {
   "metadata": {},
   "cell_type": "code",
   "source": "",
   "id": "713dc83b3957c9af",
   "outputs": [],
   "execution_count": null
  },
  {
   "metadata": {},
   "cell_type": "markdown",
   "source": "1.2. the number of new deaths",
   "id": "14222823f5748150"
  },
  {
   "metadata": {},
   "cell_type": "code",
   "source": "",
   "id": "97e1af06c253757b",
   "outputs": [],
   "execution_count": null
  },
  {
   "metadata": {},
   "cell_type": "markdown",
   "source": "1.3. the number of new vaccinations",
   "id": "23b2a4af0a54b3a9"
  },
  {
   "metadata": {},
   "cell_type": "code",
   "source": "",
   "id": "f3ad4b4c301c9887",
   "outputs": [],
   "execution_count": null
  },
  {
   "metadata": {},
   "cell_type": "markdown",
   "source": "1.4. population",
   "id": "85547f3fd44b1250"
  },
  {
   "metadata": {},
   "cell_type": "code",
   "source": "",
   "id": "334a825821da2fdc",
   "outputs": [],
   "execution_count": null
  },
  {
   "metadata": {},
   "cell_type": "markdown",
   "source": "1.5 GDP",
   "id": "439313a3c55278ef"
  },
  {
   "metadata": {},
   "cell_type": "code",
   "source": "",
   "id": "1a900e28ed6bce57",
   "outputs": [],
   "execution_count": null
  },
  {
   "metadata": {},
   "cell_type": "markdown",
   "source": "1.6.1 To do",
   "id": "188c9f85ffa2c3a2"
  },
  {
   "metadata": {},
   "cell_type": "code",
   "source": "",
   "id": "f0cba627a9a120e2",
   "outputs": [],
   "execution_count": null
  },
  {
   "metadata": {},
   "cell_type": "markdown",
   "source": "1.6.2 To do",
   "id": "7f5b3a74b83e9526"
  },
  {
   "metadata": {},
   "cell_type": "code",
   "source": "",
   "id": "4c5f4ef7e8137654",
   "outputs": [],
   "execution_count": null
  },
  {
   "metadata": {},
   "cell_type": "markdown",
   "source": "1.6.3 To do",
   "id": "85a7da61f28b82a6"
  },
  {
   "metadata": {},
   "cell_type": "code",
   "source": "",
   "id": "87dbd757dfa454bf",
   "outputs": [],
   "execution_count": null
  },
  {
   "metadata": {},
   "cell_type": "markdown",
   "source": "1.6.4 To do",
   "id": "6047310b25d3eb1f"
  },
  {
   "metadata": {},
   "cell_type": "code",
   "source": "",
   "id": "f325d440b576b132",
   "outputs": [],
   "execution_count": null
  },
  {
   "metadata": {},
   "cell_type": "markdown",
   "source": "<h1>2. Outliers</h1>",
   "id": "789419316498cd71"
  },
  {
   "metadata": {},
   "cell_type": "code",
   "source": "",
   "id": "5d151935dcda7b34",
   "outputs": [],
   "execution_count": null
  },
  {
   "metadata": {},
   "cell_type": "markdown",
   "source": "<h1>3. Statistical calculations</h1>",
   "id": "689bd688fcf1ec9"
  },
  {
   "metadata": {},
   "cell_type": "markdown",
   "source": "3.1. the average number of new illnesses, deaths and vaccinations for at least 10 selected countries in a selected month",
   "id": "dc76c0d41b08f847"
  },
  {
   "metadata": {},
   "cell_type": "code",
   "source": [
    "df['date'] = pd.to_datetime(df['date'])\n",
    "\n",
    "# Filtering data for April 2021 (from April 1 to April 30)\n",
    "df_april = df[(df['date'] >= '2021-04-01') & (df['date'] <= '2021-04-30')]\n",
    "\n",
    "# Count the average for the columns of new cases, deaths and vaccinations\n",
    "aggregations = {\n",
    "    'new_confirmed': 'mean',\n",
    "    'new_deceased': 'mean',\n",
    "    'new_vaccine_doses_administered': 'mean'\n",
    "}\n",
    "\n",
    "# Data grouping for April 2021\n",
    "group_april = df_april.groupby('iso_3166_1_alpha_3').agg(aggregations)\n",
    "\n",
    "pd.set_option('display.max_rows', None)\n",
    "\n",
    "# Average values for April 2021\n",
    "display(group_april)\n",
    "\n",
    "# Average values for the entire time interval\n",
    "group_total = df.groupby('iso_3166_1_alpha_3').agg(aggregations)\n",
    "\n",
    "display(group_total)\n"
   ],
   "id": "58ac802c0c704fb4",
   "outputs": [],
   "execution_count": null
  },
  {
   "metadata": {},
   "cell_type": "markdown",
   "source": "3.2. the average change in the number of illnesses, deaths and vaccinations for at least 10 selected countries in the selected month",
   "id": "215ce75c481db16b"
  },
  {
   "metadata": {},
   "cell_type": "code",
   "source": [
    "df['date'] = pd.to_datetime(df['date'])\n",
    "\n",
    "# Sorting data by country and date\n",
    "df_sorted = df.sort_values(['iso_3166_1_alpha_3', 'date'])\n",
    "\n",
    "# Calculation of daily changes for each country\n",
    "df_sorted['change_confirmed'] = df_sorted.groupby('iso_3166_1_alpha_3')['new_confirmed'].diff()\n",
    "df_sorted['change_deceased'] = df_sorted.groupby('iso_3166_1_alpha_3')['new_deceased'].diff()\n",
    "df_sorted['change_vaccine_doses'] = df_sorted.groupby('iso_3166_1_alpha_3')['new_vaccine_doses_administered'].diff()\n",
    "\n",
    "# Delete rows with missing data (the first row for each country will not have a diff value)\n",
    "df_changes = df_sorted.dropna(subset=['change_confirmed', 'change_deceased', 'change_vaccine_doses'])\n",
    "\n",
    "# Filtering data for April 2021\n",
    "df_april_changes = df_changes[(df_changes['date'] >= '2021-04-01') & (df_changes['date'] <= '2021-04-30')]\n",
    "\n",
    "# Definition of aggregation for change\n",
    "aggregations_changes = {\n",
    "    'change_confirmed': 'mean',\n",
    "    'change_deceased': 'mean',\n",
    "    'change_vaccine_doses': 'mean'\n",
    "}\n",
    "\n",
    "# Grouping of change data for April 2021\n",
    "group_april_changes = df_april_changes.groupby('iso_3166_1_alpha_3').agg(aggregations_changes)\n",
    "\n",
    "# Set the option to display all rows\n",
    "pd.set_option('display.max_rows', None)\n",
    "\n",
    "# View average changes for April 2021\n",
    "display(group_april_changes)\n",
    "\n",
    "# Grouping of change data for the entire time interval\n",
    "group_total_changes = df_changes.groupby('iso_3166_1_alpha_3').agg(aggregations_changes)\n",
    "\n",
    "# Display of average changes for the entire time interval\n",
    "display(group_total_changes)\n"
   ],
   "id": "bcfe178e1a7a6239",
   "outputs": [],
   "execution_count": null
  },
  {
   "metadata": {},
   "cell_type": "markdown",
   "source": "3.3. median number of new illnesses, deaths and vaccinations for at least 10 selected countries in a selected month",
   "id": "d65dc66adaa407c6"
  },
  {
   "metadata": {},
   "cell_type": "code",
   "source": [
    "df['date'] = pd.to_datetime(df['date'])\n",
    "\n",
    "# Filtering data for April 2021 (from April 1 to April 30)\n",
    "df_april = df[(df['date'] >= '2021-04-01') & (df['date'] <= '2021-04-30')]\n",
    "\n",
    "# Count the average for the columns of new cases, deaths and vaccinations\n",
    "aggregations = {\n",
    "    'new_confirmed': 'median',\n",
    "    'new_deceased': 'median',\n",
    "    'new_vaccine_doses_administered': 'median'\n",
    "}\n",
    "\n",
    "# Data grouping for April 2021\n",
    "group_april = df_april.groupby('iso_3166_1_alpha_3').agg(aggregations)\n",
    "\n",
    "pd.set_option('display.max_rows', None)\n",
    "\n",
    "# Average values for April 2021\n",
    "display(group_april)\n",
    "\n",
    "# Average values for the entire time interval\n",
    "group_total = df.groupby('iso_3166_1_alpha_3').agg(aggregations)\n",
    "\n",
    "display(group_total)"
   ],
   "id": "bac8754445798dc5",
   "outputs": [],
   "execution_count": null
  },
  {
   "metadata": {},
   "cell_type": "markdown",
   "source": "3.4. the standard deviation of the number of new cases, deaths and vaccinations for at least 10 selected countries in the selected month",
   "id": "1dae1bb76415c2e8"
  },
  {
   "metadata": {},
   "cell_type": "code",
   "source": [
    "df['date'] = pd.to_datetime(df['date'])\n",
    "\n",
    "# Filtering data for April 2021 (from April 1 to April 30)\n",
    "df_april = df[(df['date'] >= '2021-04-01') & (df['date'] <= '2021-04-30')]\n",
    "\n",
    "# Count the average for the columns of new cases, deaths and vaccinations\n",
    "aggregations = {\n",
    "    'new_confirmed': 'std',\n",
    "    'new_deceased': 'std',\n",
    "    'new_vaccine_doses_administered': 'std'\n",
    "}\n",
    "\n",
    "# Data grouping for April 2021\n",
    "group_april = df_april.groupby('iso_3166_1_alpha_3').agg(aggregations)\n",
    "\n",
    "pd.set_option('display.max_rows', None)\n",
    "\n",
    "# Average values for April 2021\n",
    "display(group_april)\n",
    "\n",
    "# Average values for the entire time interval\n",
    "group_total = df.groupby('iso_3166_1_alpha_3').agg(aggregations)\n",
    "\n",
    "display(group_total)"
   ],
   "id": "a6cca27bd81a7467",
   "outputs": [],
   "execution_count": null
  },
  {
   "metadata": {},
   "cell_type": "markdown",
   "source": "3.5. minimum, average and maximum number of new illnesses, vaccinations and deaths, and GDP of at least 10 selected countries",
   "id": "5846ded6f6456f08"
  },
  {
   "metadata": {},
   "cell_type": "code",
   "source": [
    "df['date'] = pd.to_datetime(df['date'])\n",
    "\n",
    "# Filtering data for April 2021 (from April 1 to April 30)\n",
    "df_april = df[(df['date'] >= '2021-04-01') & (df['date'] <= '2021-04-30')]\n",
    "\n",
    "# Count the average for the columns of new cases, deaths and vaccinations\n",
    "aggregations = {\n",
    "    'new_confirmed': ['min', 'mean', 'max'],\n",
    "    'new_deceased': ['min', 'mean', 'max'],\n",
    "    'new_vaccine_doses_administered': ['min', 'mean', 'max'],\n",
    "    'GDP': ['min', 'mean', 'max']\n",
    "}\n",
    "\n",
    "# Data grouping for April 2021\n",
    "group_april = df_april.groupby('iso_3166_1_alpha_3').agg(aggregations)\n",
    "\n",
    "pd.set_option('display.max_rows', None)\n",
    "\n",
    "# Average values for April 2021\n",
    "display(group_april)\n",
    "\n",
    "# Average values for the entire time interval\n",
    "group_total = df.groupby('iso_3166_1_alpha_3').agg(aggregations)\n",
    "\n",
    "display(group_total)"
   ],
   "id": "f41b097115e1f93c",
   "outputs": [],
   "execution_count": null
  },
  {
   "metadata": {},
   "cell_type": "markdown",
   "source": "3.6. minimum, average, and maximum number of new illnesses, vaccinations, and deaths, and the population of at least 10 selected countries",
   "id": "2083e5629f3b0910"
  },
  {
   "metadata": {},
   "cell_type": "code",
   "source": [
    "df['date'] = pd.to_datetime(df['date'])\n",
    "\n",
    "# Filtering data for April 2021 (from April 1 to April 30)\n",
    "df_april = df[(df['date'] >= '2021-04-01') & (df['date'] <= '2021-04-30')]\n",
    "\n",
    "# Count the average for the columns of new cases, deaths and vaccinations\n",
    "aggregations = {\n",
    "    'new_confirmed': ['min', 'mean', 'max'],\n",
    "    'new_deceased': ['min', 'mean', 'max'],\n",
    "    'new_vaccine_doses_administered': ['min', 'mean', 'max'],\n",
    "    'Population': ['min', 'mean', 'max']\n",
    "}\n",
    "\n",
    "# Data grouping for April 2021\n",
    "group_april = df_april.groupby('iso_3166_1_alpha_3').agg(aggregations)\n",
    "\n",
    "pd.set_option('display.max_rows', None)\n",
    "\n",
    "# Average values for April 2021\n",
    "display(group_april)\n",
    "\n",
    "# Average values for the entire time interval\n",
    "group_total = df.groupby('iso_3166_1_alpha_3').agg(aggregations)\n",
    "\n",
    "display(group_total)"
   ],
   "id": "ce8df895e0bcf561",
   "outputs": [],
   "execution_count": null
  },
  {
   "metadata": {},
   "cell_type": "markdown",
   "source": "<h1>4. Data normalization</h1>",
   "id": "743c406c3b9c3927"
  },
  {
   "metadata": {},
   "cell_type": "markdown",
   "source": "4.1. the number of illnesses per the number of people you specify (e.g., per 1,000 people)",
   "id": "4b0b28cb24a0794e"
  },
  {
   "metadata": {},
   "cell_type": "code",
   "source": "df[\"new_confirmed_normalized\"] = df[\"new_confirmed\"] / df[\"Population\"] * 1000\n",
   "id": "b238bb572cd3d129",
   "outputs": [],
   "execution_count": null
  },
  {
   "metadata": {},
   "cell_type": "markdown",
   "source": "4.2. the number of vaccinations per the number of people you specify (e.g., per 1,000 people)",
   "id": "e86901288caa6a42"
  },
  {
   "metadata": {},
   "cell_type": "code",
   "source": "df[\"new_vaccine_doses_administered_normalized\"] = df[\"new_vaccine_doses_administered\"] / df[\"Population\"] * 1000\n",
   "id": "9485b606e059c3de",
   "outputs": [],
   "execution_count": null
  },
  {
   "metadata": {},
   "cell_type": "markdown",
   "source": "4.3. the number of deaths per the number of people you specify (e.g., per 1,000 people)",
   "id": "4dcfb74521dd882d"
  },
  {
   "metadata": {},
   "cell_type": "code",
   "source": "df[\"new_deceased_normalized\"] = df[\"new_deceased\"] / df[\"Population\"] * 1000\n",
   "id": "d4338772f2a91bb",
   "outputs": [],
   "execution_count": null
  },
  {
   "metadata": {},
   "cell_type": "markdown",
   "source": "4.4.1 GDP",
   "id": "79176043f3f6b034"
  },
  {
   "metadata": {},
   "cell_type": "code",
   "source": "df[\"GDP_normalized\"] = df[\"GDP\"] / df[\"Population\"] * 1000\n",
   "id": "fb59f94c99d1d7e5",
   "outputs": [],
   "execution_count": null
  },
  {
   "metadata": {},
   "cell_type": "markdown",
   "source": "4.4.2 the number of test per 1000 people",
   "id": "1269e945b6f69056"
  },
  {
   "metadata": {},
   "cell_type": "code",
   "source": "df[\"new_tested_normalized\"] = df[\"new_tested\"] / df[\"Population\"] * 1000",
   "id": "d83898cebb9925c6",
   "outputs": [],
   "execution_count": null
  },
  {
   "metadata": {},
   "cell_type": "markdown",
   "source": "4.4.3 to do",
   "id": "9dd14549034848f4"
  },
  {
   "metadata": {},
   "cell_type": "code",
   "source": "",
   "id": "c63756c6ea53aec9",
   "outputs": [],
   "execution_count": null
  },
  {
   "metadata": {},
   "cell_type": "markdown",
   "source": "4.4.4 to do",
   "id": "aa40ae29c9cc6b05"
  },
  {
   "metadata": {},
   "cell_type": "code",
   "source": [
    "\n",
    "\n",
    "print(df.head())\n"
   ],
   "id": "37d7395f76f3ab85",
   "outputs": [],
   "execution_count": null
  },
  {
   "metadata": {},
   "cell_type": "markdown",
   "source": "4.5 Charts",
   "id": "e7caf9169d3c711e"
  },
  {
   "metadata": {},
   "cell_type": "code",
   "source": "",
   "id": "2fe738b496b0ed91",
   "outputs": [],
   "execution_count": null
  },
  {
   "metadata": {},
   "cell_type": "markdown",
   "source": "<h1>5. Data correlation</h1>",
   "id": "9e0cf6fac6f104e9"
  },
  {
   "metadata": {},
   "cell_type": "code",
   "source": [
    "columns = ['new_confirmed_normalized', 'new_deceased_normalized', 'new_vaccine_doses_administered_normalized']\n",
    "\n",
    "# Calculation of the correlation matrix\n",
    "correlation_matrix = df[columns].corr()\n",
    "\n",
    "new_names = {\n",
    "    'new_confirmed_normalized': 'New Confirmations (per 1k)',\n",
    "    'new_deceased_normalized': 'New Deaths (per 1k)',\n",
    "    'new_vaccine_doses_administered_normalized': 'New Vaccine Doses (per 1k)'\n",
    "}\n",
    "\n",
    "# Changing index and column labels in the correlation matrix\n",
    "correlation_matrix = correlation_matrix.rename(index=new_names, columns=new_names)\n",
    "\n",
    "sns.heatmap(correlation_matrix, annot=True, cmap='coolwarm')\n",
    "plt.show()\n"
   ],
   "id": "2c9845d875fa02de",
   "outputs": [],
   "execution_count": null
  }
 ],
 "metadata": {
  "kernelspec": {
   "display_name": "Python 3",
   "language": "python",
   "name": "python3"
  },
  "language_info": {
   "codemirror_mode": {
    "name": "ipython",
    "version": 2
   },
   "file_extension": ".py",
   "mimetype": "text/x-python",
   "name": "python",
   "nbconvert_exporter": "python",
   "pygments_lexer": "ipython2",
   "version": "2.7.6"
  }
 },
 "nbformat": 4,
 "nbformat_minor": 5
}
