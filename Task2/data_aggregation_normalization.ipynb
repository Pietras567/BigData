{
 "cells": [
  {
   "metadata": {},
   "cell_type": "markdown",
   "source": [
    "# Big Data Task 2\n",
    "<b>Authors</b>\n",
    "<ul>\n",
    "    <li>Piotr Janiszek</li>\n",
    "    <li>Mateusz Dominiak</li>\n",
    "<ul>"
   ],
   "id": "8a77807f92f26ee"
  },
  {
   "metadata": {},
   "cell_type": "markdown",
   "source": "<h1>1. Charts & Analysis</h1>",
   "id": "c550fc3b0bffed0a"
  },
  {
   "metadata": {},
   "cell_type": "markdown",
   "source": "Imports",
   "id": "a060d41bafa729eb"
  },
  {
   "metadata": {},
   "cell_type": "code",
   "source": [
    "import pandas as pd\n",
    "import numpy as np\n",
    "import matplotlib.pyplot as plt\n",
    "import seaborn as sns"
   ],
   "id": "fbc121e30a2defb3",
   "outputs": [],
   "execution_count": null
  },
  {
   "metadata": {},
   "cell_type": "markdown",
   "source": "Data Loading",
   "id": "e99cea01c88e1d21"
  },
  {
   "metadata": {},
   "cell_type": "code",
   "source": [
    "df = pd.read_csv('data/combined.csv')\n",
    "df.head()"
   ],
   "id": "e333f9e2e64e828d",
   "outputs": [],
   "execution_count": null
  },
  {
   "metadata": {},
   "cell_type": "markdown",
   "source": "1.1. the number of new cases",
   "id": "ea650d7921c6a77"
  },
  {
   "metadata": {},
   "cell_type": "code",
   "source": "",
   "id": "713dc83b3957c9af",
   "outputs": [],
   "execution_count": null
  },
  {
   "metadata": {},
   "cell_type": "markdown",
   "source": "1.2. the number of new deaths",
   "id": "14222823f5748150"
  },
  {
   "metadata": {},
   "cell_type": "code",
   "source": "",
   "id": "97e1af06c253757b",
   "outputs": [],
   "execution_count": null
  },
  {
   "metadata": {},
   "cell_type": "markdown",
   "source": "1.3. the number of new vaccinations",
   "id": "23b2a4af0a54b3a9"
  },
  {
   "metadata": {},
   "cell_type": "code",
   "source": "",
   "id": "f3ad4b4c301c9887",
   "outputs": [],
   "execution_count": null
  },
  {
   "metadata": {},
   "cell_type": "markdown",
   "source": "1.4. population",
   "id": "85547f3fd44b1250"
  },
  {
   "metadata": {},
   "cell_type": "code",
   "source": "",
   "id": "334a825821da2fdc",
   "outputs": [],
   "execution_count": null
  },
  {
   "metadata": {},
   "cell_type": "markdown",
   "source": "1.5 GDP",
   "id": "439313a3c55278ef"
  },
  {
   "metadata": {},
   "cell_type": "code",
   "source": "",
   "id": "1a900e28ed6bce57",
   "outputs": [],
   "execution_count": null
  },
  {
   "metadata": {},
   "cell_type": "markdown",
   "source": "1.6.1 To do",
   "id": "188c9f85ffa2c3a2"
  },
  {
   "metadata": {},
   "cell_type": "code",
   "source": "",
   "id": "f0cba627a9a120e2",
   "outputs": [],
   "execution_count": null
  },
  {
   "metadata": {},
   "cell_type": "markdown",
   "source": "1.6.2 To do",
   "id": "7f5b3a74b83e9526"
  },
  {
   "metadata": {},
   "cell_type": "code",
   "source": "",
   "id": "4c5f4ef7e8137654",
   "outputs": [],
   "execution_count": null
  },
  {
   "metadata": {},
   "cell_type": "markdown",
   "source": "1.6.3 To do",
   "id": "85a7da61f28b82a6"
  },
  {
   "metadata": {},
   "cell_type": "code",
   "source": "",
   "id": "87dbd757dfa454bf",
   "outputs": [],
   "execution_count": null
  },
  {
   "metadata": {},
   "cell_type": "markdown",
   "source": "1.6.4 To do",
   "id": "6047310b25d3eb1f"
  },
  {
   "metadata": {},
   "cell_type": "code",
   "source": "",
   "id": "f325d440b576b132",
   "outputs": [],
   "execution_count": null
  },
  {
   "metadata": {},
   "cell_type": "markdown",
   "source": "<h1>2. Outliers</h1>",
   "id": "789419316498cd71"
  },
  {
   "metadata": {},
   "cell_type": "code",
   "source": "",
   "id": "5d151935dcda7b34",
   "outputs": [],
   "execution_count": null
  },
  {
   "metadata": {},
   "cell_type": "markdown",
   "source": "<h1>3. Statistical calculations</h1>",
   "id": "689bd688fcf1ec9"
  },
  {
   "metadata": {},
   "cell_type": "markdown",
   "source": "3.1. the average number of new illnesses, deaths and vaccinations for at least 10 selected countries in a selected month",
   "id": "dc76c0d41b08f847"
  },
  {
   "metadata": {},
   "cell_type": "code",
   "source": [
    "df['date'] = pd.to_datetime(df['date'])\n",
    "\n",
    "# Filtering data for April 2021 (from April 1 to April 30)\n",
    "df_april = df[(df['date'] >= '2021-04-01') & (df['date'] <= '2021-04-30')]\n",
    "\n",
    "# Count the average for the columns of new cases, deaths and vaccinations\n",
    "aggregations = {\n",
    "    'new_confirmed': 'mean',\n",
    "    'new_deceased': 'mean',\n",
    "    'new_vaccine_doses_administered': 'mean'\n",
    "}\n",
    "\n",
    "# Data grouping for April 2021\n",
    "group_april = df_april.groupby('iso_3166_1_alpha_3').agg(aggregations)\n",
    "\n",
    "pd.set_option('display.max_rows', None)\n",
    "\n",
    "# Average values for April 2021\n",
    "display(group_april)\n",
    "\n",
    "# Average values for the entire time interval\n",
    "group_total = df.groupby('iso_3166_1_alpha_3').agg(aggregations)\n",
    "\n",
    "display(group_total)\n"
   ],
   "id": "58ac802c0c704fb4",
   "outputs": [],
   "execution_count": null
  },
  {
   "metadata": {},
   "cell_type": "markdown",
   "source": "3.2. the average change in the number of illnesses, deaths and vaccinations for at least 10 selected countries in the selected month",
   "id": "215ce75c481db16b"
  },
  {
   "metadata": {},
   "cell_type": "code",
   "source": [
    "df['date'] = pd.to_datetime(df['date'])\n",
    "\n",
    "# Sorting data by country and date\n",
    "df_sorted = df.sort_values(['iso_3166_1_alpha_3', 'date'])\n",
    "\n",
    "# Calculation of daily changes for each country\n",
    "df_sorted['change_confirmed'] = df_sorted.groupby('iso_3166_1_alpha_3')['new_confirmed'].diff()\n",
    "df_sorted['change_deceased'] = df_sorted.groupby('iso_3166_1_alpha_3')['new_deceased'].diff()\n",
    "df_sorted['change_vaccine_doses'] = df_sorted.groupby('iso_3166_1_alpha_3')['new_vaccine_doses_administered'].diff()\n",
    "\n",
    "# Delete rows with missing data (the first row for each country will not have a diff value)\n",
    "df_changes = df_sorted.dropna(subset=['change_confirmed', 'change_deceased', 'change_vaccine_doses'])\n",
    "\n",
    "# Filtering data for April 2021\n",
    "df_april_changes = df_changes[(df_changes['date'] >= '2021-04-01') & (df_changes['date'] <= '2021-04-30')]\n",
    "\n",
    "# Definition of aggregation for change\n",
    "aggregations_changes = {\n",
    "    'change_confirmed': 'mean',\n",
    "    'change_deceased': 'mean',\n",
    "    'change_vaccine_doses': 'mean'\n",
    "}\n",
    "\n",
    "# Grouping of change data for April 2021\n",
    "group_april_changes = df_april_changes.groupby('iso_3166_1_alpha_3').agg(aggregations_changes)\n",
    "\n",
    "# Set the option to display all rows\n",
    "pd.set_option('display.max_rows', None)\n",
    "\n",
    "# View average changes for April 2021\n",
    "display(group_april_changes)\n",
    "\n",
    "# Grouping of change data for the entire time interval\n",
    "group_total_changes = df_changes.groupby('iso_3166_1_alpha_3').agg(aggregations_changes)\n",
    "\n",
    "# Display of average changes for the entire time interval\n",
    "display(group_total_changes)\n"
   ],
   "id": "bcfe178e1a7a6239",
   "outputs": [],
   "execution_count": null
  },
  {
   "metadata": {},
   "cell_type": "markdown",
   "source": "3.3. median number of new illnesses, deaths and vaccinations for at least 10 selected countries in a selected month",
   "id": "d65dc66adaa407c6"
  },
  {
   "metadata": {},
   "cell_type": "code",
   "source": [
    "df['date'] = pd.to_datetime(df['date'])\n",
    "\n",
    "# Filtering data for April 2021 (from April 1 to April 30)\n",
    "df_april = df[(df['date'] >= '2021-04-01') & (df['date'] <= '2021-04-30')]\n",
    "\n",
    "# Count the average for the columns of new cases, deaths and vaccinations\n",
    "aggregations = {\n",
    "    'new_confirmed': 'median',\n",
    "    'new_deceased': 'median',\n",
    "    'new_vaccine_doses_administered': 'median'\n",
    "}\n",
    "\n",
    "# Data grouping for April 2021\n",
    "group_april = df_april.groupby('iso_3166_1_alpha_3').agg(aggregations)\n",
    "\n",
    "pd.set_option('display.max_rows', None)\n",
    "\n",
    "# Average values for April 2021\n",
    "display(group_april)\n",
    "\n",
    "# Average values for the entire time interval\n",
    "group_total = df.groupby('iso_3166_1_alpha_3').agg(aggregations)\n",
    "\n",
    "display(group_total)"
   ],
   "id": "bac8754445798dc5",
   "outputs": [],
   "execution_count": null
  },
  {
   "metadata": {},
   "cell_type": "markdown",
   "source": "3.4. the standard deviation of the number of new cases, deaths and vaccinations for at least 10 selected countries in the selected month",
   "id": "1dae1bb76415c2e8"
  },
  {
   "metadata": {},
   "cell_type": "code",
   "source": [
    "df['date'] = pd.to_datetime(df['date'])\n",
    "\n",
    "# Filtering data for April 2021 (from April 1 to April 30)\n",
    "df_april = df[(df['date'] >= '2021-04-01') & (df['date'] <= '2021-04-30')]\n",
    "\n",
    "# Count the average for the columns of new cases, deaths and vaccinations\n",
    "aggregations = {\n",
    "    'new_confirmed': 'std',\n",
    "    'new_deceased': 'std',\n",
    "    'new_vaccine_doses_administered': 'std'\n",
    "}\n",
    "\n",
    "# Data grouping for April 2021\n",
    "group_april = df_april.groupby('iso_3166_1_alpha_3').agg(aggregations)\n",
    "\n",
    "pd.set_option('display.max_rows', None)\n",
    "\n",
    "# Average values for April 2021\n",
    "display(group_april)\n",
    "\n",
    "# Average values for the entire time interval\n",
    "group_total = df.groupby('iso_3166_1_alpha_3').agg(aggregations)\n",
    "\n",
    "display(group_total)"
   ],
   "id": "a6cca27bd81a7467",
   "outputs": [],
   "execution_count": null
  },
  {
   "metadata": {},
   "cell_type": "markdown",
   "source": "3.5. minimum, average and maximum number of new illnesses, vaccinations and deaths, and GDP of at least 10 selected countries",
   "id": "5846ded6f6456f08"
  },
  {
   "metadata": {},
   "cell_type": "code",
   "source": [
    "df['date'] = pd.to_datetime(df['date'])\n",
    "\n",
    "# Filtering data for April 2021 (from April 1 to April 30)\n",
    "df_april = df[(df['date'] >= '2021-04-01') & (df['date'] <= '2021-04-30')]\n",
    "\n",
    "# Count the average for the columns of new cases, deaths and vaccinations\n",
    "aggregations = {\n",
    "    'new_confirmed': ['min', 'mean', 'max'],\n",
    "    'new_deceased': ['min', 'mean', 'max'],\n",
    "    'new_vaccine_doses_administered': ['min', 'mean', 'max'],\n",
    "    'GDP': ['min', 'mean', 'max']\n",
    "}\n",
    "\n",
    "# Data grouping for April 2021\n",
    "group_april = df_april.groupby('iso_3166_1_alpha_3').agg(aggregations)\n",
    "\n",
    "pd.set_option('display.max_rows', None)\n",
    "\n",
    "# Average values for April 2021\n",
    "display(group_april)\n",
    "\n",
    "# Average values for the entire time interval\n",
    "group_total = df.groupby('iso_3166_1_alpha_3').agg(aggregations)\n",
    "\n",
    "display(group_total)"
   ],
   "id": "f41b097115e1f93c",
   "outputs": [],
   "execution_count": null
  },
  {
   "metadata": {},
   "cell_type": "markdown",
   "source": "3.6. minimum, average, and maximum number of new illnesses, vaccinations, and deaths, and the population of at least 10 selected countries",
   "id": "2083e5629f3b0910"
  },
  {
   "metadata": {},
   "cell_type": "code",
   "source": [
    "df['date'] = pd.to_datetime(df['date'])\n",
    "\n",
    "# Filtering data for April 2021 (from April 1 to April 30)\n",
    "df_april = df[(df['date'] >= '2021-04-01') & (df['date'] <= '2021-04-30')]\n",
    "\n",
    "# Count the average for the columns of new cases, deaths and vaccinations\n",
    "aggregations = {\n",
    "    'new_confirmed': ['min', 'mean', 'max'],\n",
    "    'new_deceased': ['min', 'mean', 'max'],\n",
    "    'new_vaccine_doses_administered': ['min', 'mean', 'max'],\n",
    "    'Population': ['min', 'mean', 'max']\n",
    "}\n",
    "\n",
    "# Data grouping for April 2021\n",
    "group_april = df_april.groupby('iso_3166_1_alpha_3').agg(aggregations)\n",
    "\n",
    "pd.set_option('display.max_rows', None)\n",
    "\n",
    "# Average values for April 2021\n",
    "display(group_april)\n",
    "\n",
    "# Average values for the entire time interval\n",
    "group_total = df.groupby('iso_3166_1_alpha_3').agg(aggregations)\n",
    "\n",
    "display(group_total)"
   ],
   "id": "ce8df895e0bcf561",
   "outputs": [],
   "execution_count": null
  },
  {
   "metadata": {},
   "cell_type": "markdown",
   "source": "<h1>4. Data normalization</h1>",
   "id": "743c406c3b9c3927"
  },
  {
   "metadata": {},
   "cell_type": "markdown",
   "source": "4.1. the number of illnesses per the number of people you specify (e.g., per 1,000 people)",
   "id": "4b0b28cb24a0794e"
  },
  {
   "metadata": {},
   "cell_type": "code",
   "source": [
    "df[\"new_confirmed_normalized\"] = df[\"new_confirmed\"] / df[\"Population\"] * 1000\n",
    "df[\"cumulative_confirmed_normalized\"] = df[\"cumulative_confirmed\"] / df[\"Population\"] * 1000\n"
   ],
   "id": "b238bb572cd3d129",
   "outputs": [],
   "execution_count": null
  },
  {
   "metadata": {},
   "cell_type": "markdown",
   "source": "4.2. the number of vaccinations per the number of people you specify (e.g., per 1,000 people)",
   "id": "e86901288caa6a42"
  },
  {
   "metadata": {},
   "cell_type": "code",
   "source": [
    "df[\"new_vaccine_doses_administered_normalized\"] = df[\"new_vaccine_doses_administered\"] / df[\"Population\"] * 1000\n",
    "df[\"cumulative_vaccine_doses_administered_normalized\"] = df[\"cumulative_vaccine_doses_administered\"] / df[\"Population\"] * 1000"
   ],
   "id": "9485b606e059c3de",
   "outputs": [],
   "execution_count": null
  },
  {
   "metadata": {},
   "cell_type": "markdown",
   "source": "4.3. the number of deaths per the number of people you specify (e.g., per 1,000 people)",
   "id": "4dcfb74521dd882d"
  },
  {
   "metadata": {},
   "cell_type": "code",
   "source": [
    "df[\"new_deceased_normalized\"] = df[\"new_deceased\"] / df[\"Population\"] * 1000\n",
    "df[\"cumulative_deceased_normalized\"] = df[\"cumulative_deceased\"] / df[\"Population\"] * 1000\n"
   ],
   "id": "d4338772f2a91bb",
   "outputs": [],
   "execution_count": null
  },
  {
   "metadata": {},
   "cell_type": "markdown",
   "source": "4.4.1 GDP",
   "id": "79176043f3f6b034"
  },
  {
   "metadata": {},
   "cell_type": "code",
   "source": "df[\"GDP_normalized\"] = df[\"GDP\"] / df[\"Population\"] * 1000\n",
   "id": "fb59f94c99d1d7e5",
   "outputs": [],
   "execution_count": null
  },
  {
   "metadata": {},
   "cell_type": "markdown",
   "source": "4.4.2 the number of test per 1000 people",
   "id": "1269e945b6f69056"
  },
  {
   "metadata": {},
   "cell_type": "code",
   "source": [
    "df[\"new_tested_normalized\"] = df[\"new_tested\"] / df[\"Population\"] * 1000\n",
    "df[\"cumulative_tested_normalized\"] = df[\"cumulative_tested\"] / df[\"Population\"] * 1000"
   ],
   "id": "d83898cebb9925c6",
   "outputs": [],
   "execution_count": null
  },
  {
   "metadata": {},
   "cell_type": "markdown",
   "source": "4.4.3 to do",
   "id": "9dd14549034848f4"
  },
  {
   "metadata": {},
   "cell_type": "code",
   "source": "",
   "id": "c63756c6ea53aec9",
   "outputs": [],
   "execution_count": null
  },
  {
   "metadata": {},
   "cell_type": "markdown",
   "source": "4.4.4 to do",
   "id": "aa40ae29c9cc6b05"
  },
  {
   "metadata": {},
   "cell_type": "code",
   "source": [
    "\n",
    "\n",
    "print(df.head())\n",
    "print(df.columns)\n"
   ],
   "id": "37d7395f76f3ab85",
   "outputs": [],
   "execution_count": null
  },
  {
   "metadata": {},
   "cell_type": "markdown",
   "source": "4.5 Charts",
   "id": "e7caf9169d3c711e"
  },
  {
   "metadata": {},
   "cell_type": "code",
   "source": [
    "# Lista znormalizowanych kolumn\n",
    "normalized_cols = [\n",
    "    'new_confirmed_normalized',\n",
    "    'new_deceased_normalized',\n",
    "    'new_vaccine_doses_administered_normalized',\n",
    "    'GDP_normalized',\n",
    "    'new_tested_normalized',\n",
    "    'cumulative_confirmed_normalized',\n",
    "    'cumulative_deceased_normalized',\n",
    "    'cumulative_vaccine_doses_administered_normalized',\n",
    "    'cumulative_tested_normalized'\n",
    "]\n",
    "\n",
    "# Ustawienia stylu wykresów\n",
    "sns.set(style='whitegrid', context='talk')\n",
    "\n",
    "# Wykres histogramów z krzywą KDE dla każdej kolumny\n",
    "plt.figure(figsize=(15, 40))\n",
    "for i, col in enumerate(normalized_cols, 1):\n",
    "    plt.subplot(5, 2, i)\n",
    "    sns.histplot(df[col], kde=True, bins=30, color='skyblue')\n",
    "    plt.title(f'Rozkład: {col}')\n",
    "    plt.xlabel('Wartość')\n",
    "    plt.ylabel('Liczba obserwacji')\n",
    "\n",
    "plt.tight_layout()\n",
    "plt.show()\n"
   ],
   "id": "2fe738b496b0ed91",
   "outputs": [],
   "execution_count": null
  },
  {
   "metadata": {},
   "cell_type": "code",
   "source": [
    "# Wykres pudełkowy (boxplot) porównujący rozkłady znormalizowanych danych\n",
    "plt.figure(figsize=(50, 20))\n",
    "sns.boxplot(data=df[normalized_cols], palette='Set2')\n",
    "plt.title(\"Porównanie rozkładów znormalizowanych kolumn\")\n",
    "plt.xlabel(\"Rodzaj danych\")\n",
    "plt.ylabel(\"Wartość znormalizowana\")\n",
    "plt.show()\n"
   ],
   "id": "57d1ea1fdebb4182",
   "outputs": [],
   "execution_count": null
  },
  {
   "metadata": {},
   "cell_type": "markdown",
   "source": "<h1>5. Data correlation</h1>",
   "id": "9e0cf6fac6f104e9"
  },
  {
   "metadata": {},
   "cell_type": "code",
   "source": [
    "\"\"\"\n",
    "df['date'] = pd.to_datetime(df['date'])\n",
    "df_sorted = df.sort_values('date')\n",
    "\n",
    "last_measurements = df_sorted.groupby('iso_3166_1_alpha_3').last()\n",
    "\"\"\"\n",
    "\n",
    "columns = ['new_confirmed', 'new_deceased', 'new_vaccine_doses_administered']\n",
    "\n",
    "# Calculation of the correlation matrix\n",
    "correlation_matrix = df[columns].corr()\n",
    "\n",
    "new_names = {\n",
    "    'new_confirmed': 'New Confirmations',\n",
    "    'new_deceased': 'New Deaths',\n",
    "    'new_vaccine_doses_administered': 'New Vaccine Doses',\n",
    "}\n",
    "\n",
    "# Changing index and column labels in the correlation matrix\n",
    "correlation_matrix = correlation_matrix.rename(index=new_names, columns=new_names)\n",
    "\n",
    "sns.heatmap(correlation_matrix, annot=True, cmap='coolwarm')\n",
    "plt.show()\n"
   ],
   "id": "5e5ec777a6655e7c",
   "outputs": [],
   "execution_count": null
  },
  {
   "metadata": {},
   "cell_type": "code",
   "source": [
    "columns = ['new_confirmed', 'new_deceased', 'new_vaccine_doses_administered', 'cumulative_confirmed', 'cumulative_deceased', 'cumulative_vaccine_doses_administered']\n",
    "\n",
    "# Calculation of the correlation matrix\n",
    "correlation_matrix = df[columns].corr()\n",
    "\n",
    "new_names = {\n",
    "    'new_confirmed': 'New Confirmations',\n",
    "    'new_deceased': 'New Deaths',\n",
    "    'new_vaccine_doses_administered': 'New Vaccine Doses',\n",
    "    'cumulative_confirmed': 'Cumulative Confirmations',\n",
    "    'cumulative_deceased': 'Cumulative Deaths',\n",
    "    'cumulative_vaccine_doses_administered': 'Cumulative Vaccine Doses Administered'\n",
    "}\n",
    "\n",
    "# Changing index and column labels in the correlation matrix\n",
    "correlation_matrix = correlation_matrix.rename(index=new_names, columns=new_names)\n",
    "\n",
    "sns.heatmap(correlation_matrix, annot=True, cmap='coolwarm')\n",
    "plt.show()\n"
   ],
   "id": "bd8a3c346417a6b6",
   "outputs": [],
   "execution_count": null
  },
  {
   "metadata": {},
   "cell_type": "code",
   "source": [
    "columns = ['new_confirmed_normalized', 'new_deceased_normalized', 'new_vaccine_doses_administered_normalized', 'GDP_normalized', 'Unemployment, total (% of total labor force)', 'median_salary', 'average_salary', 'lowest_salary', 'highest_salary']\n",
    "\n",
    "# Calculation of the correlation matrix\n",
    "correlation_matrix = df[columns].corr()\n",
    "\n",
    "new_names = {\n",
    "    'new_confirmed_normalized': 'New Confirmations (per 1k)',\n",
    "    'new_deceased_normalized': 'New Deaths (per 1k)',\n",
    "    'new_vaccine_doses_administered_normalized': 'New Vaccine Doses (per 1k)',\n",
    "    'GDP_normalized': 'GDP (per capita)',\n",
    "    'Unemployment, total (% of total labor force)': 'Unemployment (% of total labor force)',\n",
    "    'median_salary': 'Median Salary',\n",
    "    'average_salary': 'Average Salary',\n",
    "    'lowest_salary': 'Lowest Salary',\n",
    "    'highest_salary': 'Highest Salary'\n",
    "}\n",
    "\n",
    "# Changing index and column labels in the correlation matrix\n",
    "correlation_matrix = correlation_matrix.rename(index=new_names, columns=new_names)\n",
    "\n",
    "plt.figure(figsize=(12, 8))\n",
    "\n",
    "sns.heatmap(correlation_matrix, annot=True, cmap='coolwarm')\n",
    "plt.show()\n"
   ],
   "id": "a3637026cdb72d85",
   "outputs": [],
   "execution_count": null
  },
  {
   "metadata": {},
   "cell_type": "code",
   "source": [
    "columns = ['new_confirmed_normalized', 'new_deceased_normalized', 'new_vaccine_doses_administered_normalized', 'Population', 'Density (per km²)', 'Growth Rate']\n",
    "\n",
    "# Calculation of the correlation matrix\n",
    "correlation_matrix = df[columns].corr()\n",
    "\n",
    "new_names = {\n",
    "    'new_confirmed_normalized': 'New Confirmations (per 1k)',\n",
    "    'new_deceased_normalized': 'New Deaths (per 1k)',\n",
    "    'new_vaccine_doses_administered_normalized': 'New Vaccine Doses (per 1k)',\n",
    "    'Population': 'Population',\n",
    "    'Density (per km²)': 'Density (per km²)',\n",
    "    'Growth Rate': 'Growth Rate'\n",
    "}\n",
    "\n",
    "# Changing index and column labels in the correlation matrix\n",
    "correlation_matrix = correlation_matrix.rename(index=new_names, columns=new_names)\n",
    "\n",
    "plt.figure(figsize=(12, 8))\n",
    "\n",
    "sns.heatmap(correlation_matrix, annot=True, cmap='coolwarm')\n",
    "plt.show()\n"
   ],
   "id": "13bf36f000113b32",
   "outputs": [],
   "execution_count": null
  },
  {
   "metadata": {},
   "cell_type": "code",
   "source": [
    "df['date'] = pd.to_datetime(df['date'])\n",
    "df_filtered = df.dropna(subset=['new_confirmed_normalized', 'new_deceased_normalized', 'cumulative_confirmed_normalized', 'cumulative_deceased_normalized', 'new_vaccine_doses_administered_normalized', 'cumulative_vaccine_doses_administered_normalized'])\n",
    "\n",
    "\n",
    "# Używamy groupby oraz idxmax do pobrania indeksów wierszy z maksymalną wartością w kolumnie 'cumulative_confirmed_normalized'\n",
    "max_idx1 = df_filtered.groupby('iso_3166_1_alpha_3')['new_confirmed_normalized'].idxmax()\n",
    "max_idx2 = df_filtered.groupby('iso_3166_1_alpha_3')['new_deceased_normalized'].idxmax()\n",
    "max_idx3 = df_filtered.groupby('iso_3166_1_alpha_3')['cumulative_confirmed_normalized'].idxmax()\n",
    "max_idx4 = df_filtered.groupby('iso_3166_1_alpha_3')['cumulative_deceased_normalized'].idxmax()\n",
    "max_idx5 = df_filtered.groupby('iso_3166_1_alpha_3')['new_vaccine_doses_administered_normalized'].idxmax()\n",
    "max_idx6 = df_filtered.groupby('iso_3166_1_alpha_3')['cumulative_vaccine_doses_administered_normalized'].idxmax()\n",
    "\n",
    "# Wybór wierszy na podstawie indeksów\n",
    "max_confirmed_new = df_filtered.loc[max_idx1]\n",
    "max_deceased_new = df_filtered.loc[max_idx2]\n",
    "max_confirmed_cumulative = df_filtered.loc[max_idx3]\n",
    "max_deceased_cumulative = df_filtered.loc[max_idx4]\n",
    "max_vaccine_new = df_filtered.loc[max_idx5]\n",
    "max_vaccine_cumulative = df_filtered.loc[max_idx6]\n",
    "\n",
    "\n",
    "columns_max_confirmed_new = ['new_confirmed_normalized', 'smoking_prevalence', 'diabetes_prevalence', 'hospital_beds_per_1000', 'nurses_per_1000', 'physicians_per_1000', 'health_expenditure_usd']\n",
    "\n",
    "columns_max_deceased_new = ['new_deceased_normalized', 'smoking_prevalence', 'diabetes_prevalence', 'hospital_beds_per_1000', 'nurses_per_1000', 'physicians_per_1000', 'health_expenditure_usd']\n",
    "\n",
    "columns_max_vaccine_new = ['new_vaccine_doses_administered_normalized', 'smoking_prevalence', 'diabetes_prevalence', 'hospital_beds_per_1000', 'nurses_per_1000', 'physicians_per_1000', 'health_expenditure_usd']\n",
    "\n",
    "columns_max_confirmed_cumulative = ['cumulative_confirmed_normalized', 'smoking_prevalence', 'diabetes_prevalence', 'hospital_beds_per_1000', 'nurses_per_1000', 'physicians_per_1000', 'health_expenditure_usd']\n",
    "\n",
    "columns_max_deceased_cumulative = ['cumulative_deceased_normalized', 'smoking_prevalence', 'diabetes_prevalence', 'hospital_beds_per_1000', 'nurses_per_1000', 'physicians_per_1000', 'health_expenditure_usd']\n",
    "\n",
    "columns_max_vaccine_cumulative = ['cumulative_vaccine_doses_administered_normalized', 'smoking_prevalence', 'diabetes_prevalence', 'hospital_beds_per_1000', 'nurses_per_1000', 'physicians_per_1000', 'health_expenditure_usd']\n",
    "\n",
    "\n",
    "\n",
    "# Calculation of the correlation matrix\n",
    "correlation_matrix_confirmed_new = max_confirmed_new[columns_max_confirmed_new].corr()\n",
    "correlation_matrix_deceased_new = max_deceased_new[columns_max_deceased_new].corr()\n",
    "correlation_matrix_vaccine_new = max_deceased_new[columns_max_vaccine_new].corr()\n",
    "correlation_matrix_confirmed_cumulative = max_confirmed_cumulative[columns_max_confirmed_cumulative].corr()\n",
    "correlation_matrix_deceased_cumulative = max_deceased_cumulative[columns_max_deceased_cumulative].corr()\n",
    "correlation_matrix_vaccine_cumulative = max_deceased_cumulative[columns_max_vaccine_cumulative].corr()\n",
    "\n",
    "new_names = {\n",
    "    'new_confirmed_normalized': 'New Confirmations (per 1k)',\n",
    "    'new_deceased_normalized': 'New Deaths (per 1k)',\n",
    "    'new_vaccine_doses_administered_normalized': 'New Vaccine Doses (per 1k)',\n",
    "    'smoking_prevalence': 'Smoking Prevalence',\n",
    "    'diabetes_prevalence': 'Diabetes Prevalence',\n",
    "    'hospital_beds_per_1000': 'Hospital Beds (per 1k)',\n",
    "    'nurses_per_1000': 'Nurses (per 1k)',\n",
    "    'physicians_per_1000': 'Physicians (per 1k)',\n",
    "    'health_expenditure_usd': 'Health Expenditure (USD)'\n",
    "\n",
    "}\n",
    "\n",
    "# Changing index and column labels in the correlation matrix\n",
    "correlation_matrix_confirmed_new = correlation_matrix_confirmed_new.rename(index=new_names, columns=new_names)\n",
    "correlation_matrix_deceased_new = correlation_matrix_deceased_new.rename(index=new_names, columns=new_names)\n",
    "correlation_matrix_vaccine_new = correlation_matrix_vaccine_new.rename(index=new_names, columns=new_names)\n",
    "correlation_matrix_confirmed_cumulative = correlation_matrix_confirmed_cumulative.rename(index=new_names, columns=new_names)\n",
    "correlation_matrix_deceased_cumulative = correlation_matrix_deceased_cumulative.rename(index=new_names, columns=new_names)\n",
    "correlation_matrix_vaccine_cumulative = correlation_matrix_vaccine_cumulative.rename(index=new_names, columns=new_names)\n",
    "\n",
    "plt.figure(figsize=(12, 8))\n",
    "\n",
    "sns.heatmap(correlation_matrix_confirmed_new, annot=True, cmap='coolwarm')\n",
    "plt.show()\n",
    "\n",
    "plt.figure(figsize=(12, 8))\n",
    "\n",
    "sns.heatmap(correlation_matrix_deceased_new, annot=True, cmap='coolwarm')\n",
    "plt.show()\n",
    "\n",
    "plt.figure(figsize=(12, 8))\n",
    "\n",
    "sns.heatmap(correlation_matrix_confirmed_cumulative, annot=True, cmap='coolwarm')\n",
    "plt.show()\n",
    "\n",
    "plt.figure(figsize=(12, 8))\n",
    "\n",
    "sns.heatmap(correlation_matrix_deceased_cumulative, annot=True, cmap='coolwarm')\n",
    "plt.show()\n",
    "\n",
    "plt.figure(figsize=(12, 8))\n",
    "\n",
    "sns.heatmap(correlation_matrix_vaccine_new, annot=True, cmap='coolwarm')\n",
    "plt.show()\n",
    "\n",
    "plt.figure(figsize=(12, 8))\n",
    "\n",
    "sns.heatmap(correlation_matrix_vaccine_cumulative, annot=True, cmap='coolwarm')\n",
    "plt.show()\n"
   ],
   "id": "1c5181c145177581",
   "outputs": [],
   "execution_count": null
  },
  {
   "metadata": {},
   "cell_type": "code",
   "source": [
    "columns = ['new_confirmed_normalized', 'new_deceased_normalized', 'new_vaccine_doses_administered_normalized', 'GDP_normalized', 'new_tested_normalized', 'cumulative_confirmed', 'cumulative_deceased', 'cumulative_vaccine_doses_administered', 'Unemployment, total (% of total labor force)', 'median_salary', 'average_salary', 'lowest_salary', 'highest_salary', 'Population', 'Density (per km²)', 'Growth Rate', 'smoking_prevalence', 'diabetes_prevalence', 'hospital_beds_per_1000', 'nurses_per_1000', 'physicians_per_1000', 'health_expenditure_usd']\n",
    "\n",
    "# Calculation of the correlation matrix\n",
    "correlation_matrix = df[columns].corr()\n",
    "\n",
    "new_names = {\n",
    "    'new_confirmed_normalized': 'New Confirmations (per 1k)',\n",
    "    'new_deceased_normalized': 'New Deaths (per 1k)',\n",
    "    'new_vaccine_doses_administered_normalized': 'New Vaccine Doses (per 1k)',\n",
    "    'GDP_normalized': 'GDP (per 1k)',\n",
    "    'new_tested_normalized': 'New Tests (per 1k)',\n",
    "    'cumulative_confirmed': 'Cumulative Confirmations',\n",
    "    'cumulative_deceased': 'Cumulative Deaths',\n",
    "    'cumulative_vaccine_doses_administered': 'Cumulative Vaccine Doses Administered',\n",
    "    'Unemployment, total (% of total labor force)': 'Unemployment (% of total labor force)',\n",
    "    'median_salary': 'Median Salary',\n",
    "    'average_salary': 'Average Salary',\n",
    "    'lowest_salary': 'Lowest Salary',\n",
    "    'highest_salary': 'Highest Salary',\n",
    "    'Population': 'Population',\n",
    "    'Density (per km²)': 'Density (per km²)',\n",
    "    'Growth Rate': 'Growth Rate',\n",
    "    'smoking_prevalence': 'Smoking Prevalence',\n",
    "    'diabetes_prevalence': 'Diabetes Prevalence',\n",
    "    'hospital_beds_per_1000': 'Hospital Beds (per 1k)',\n",
    "    'nurses_per_1000': 'Nurses (per 1k)',\n",
    "    'physicians_per_1000': 'Physicians (per 1k)',\n",
    "    'health_expenditure_usd': 'Health Expenditure (USD)'\n",
    "}\n",
    "\n",
    "# Changing index and column labels in the correlation matrix\n",
    "correlation_matrix = correlation_matrix.rename(index=new_names, columns=new_names)\n",
    "\n",
    "plt.figure(figsize=(28, 14))\n",
    "\n",
    "sns.heatmap(correlation_matrix, annot=True, cmap='coolwarm')\n",
    "plt.show()\n"
   ],
   "id": "2c9845d875fa02de",
   "outputs": [],
   "execution_count": null
  },
  {
   "metadata": {},
   "cell_type": "code",
   "source": "",
   "id": "52e7b54088d5838e",
   "outputs": [],
   "execution_count": null
  }
 ],
 "metadata": {
  "kernelspec": {
   "display_name": "Python 3",
   "language": "python",
   "name": "python3"
  },
  "language_info": {
   "codemirror_mode": {
    "name": "ipython",
    "version": 2
   },
   "file_extension": ".py",
   "mimetype": "text/x-python",
   "name": "python",
   "nbconvert_exporter": "python",
   "pygments_lexer": "ipython2",
   "version": "2.7.6"
  }
 },
 "nbformat": 4,
 "nbformat_minor": 5
}
