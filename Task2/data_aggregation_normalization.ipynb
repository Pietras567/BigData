{
 "cells": [
  {
   "metadata": {},
   "cell_type": "markdown",
   "source": [
    "# Big Data Task 2\n",
    "<b>Authors</b>\n",
    "<ul>\n",
    "    <li>Piotr Janiszek</li>\n",
    "    <li>Mateusz Dominiak</li>\n",
    "<ul>"
   ],
   "id": "8a77807f92f26ee"
  },
  {
   "metadata": {},
   "cell_type": "markdown",
   "source": "<h1>1. Charts & Analysis</h1>",
   "id": "c550fc3b0bffed0a"
  },
  {
   "metadata": {},
   "cell_type": "markdown",
   "source": "Imports",
   "id": "a060d41bafa729eb"
  },
  {
   "metadata": {},
   "cell_type": "code",
   "outputs": [],
   "execution_count": null,
   "source": "",
   "id": "fbc121e30a2defb3"
  },
  {
   "metadata": {},
   "cell_type": "markdown",
   "source": "Data Loading",
   "id": "e99cea01c88e1d21"
  },
  {
   "metadata": {},
   "cell_type": "code",
   "outputs": [],
   "execution_count": null,
   "source": "",
   "id": "e333f9e2e64e828d"
  },
  {
   "metadata": {},
   "cell_type": "markdown",
   "source": "1.1. the number of new cases",
   "id": "ea650d7921c6a77"
  },
  {
   "metadata": {},
   "cell_type": "code",
   "outputs": [],
   "execution_count": null,
   "source": "",
   "id": "713dc83b3957c9af"
  },
  {
   "metadata": {},
   "cell_type": "markdown",
   "source": "1.2. the number of new deaths",
   "id": "14222823f5748150"
  },
  {
   "metadata": {},
   "cell_type": "code",
   "outputs": [],
   "execution_count": null,
   "source": "",
   "id": "97e1af06c253757b"
  },
  {
   "metadata": {},
   "cell_type": "markdown",
   "source": "1.3. the number of new vaccinations",
   "id": "23b2a4af0a54b3a9"
  },
  {
   "metadata": {},
   "cell_type": "code",
   "outputs": [],
   "execution_count": null,
   "source": "",
   "id": "f3ad4b4c301c9887"
  },
  {
   "metadata": {},
   "cell_type": "markdown",
   "source": "1.4. population",
   "id": "85547f3fd44b1250"
  },
  {
   "metadata": {},
   "cell_type": "code",
   "outputs": [],
   "execution_count": null,
   "source": "",
   "id": "334a825821da2fdc"
  },
  {
   "metadata": {},
   "cell_type": "markdown",
   "source": "1.5 GDP",
   "id": "439313a3c55278ef"
  },
  {
   "metadata": {},
   "cell_type": "code",
   "outputs": [],
   "execution_count": null,
   "source": "",
   "id": "1a900e28ed6bce57"
  },
  {
   "metadata": {},
   "cell_type": "markdown",
   "source": "1.6.1 To do",
   "id": "188c9f85ffa2c3a2"
  },
  {
   "metadata": {},
   "cell_type": "code",
   "outputs": [],
   "execution_count": null,
   "source": "",
   "id": "f0cba627a9a120e2"
  },
  {
   "metadata": {},
   "cell_type": "markdown",
   "source": "1.6.2 To do",
   "id": "7f5b3a74b83e9526"
  },
  {
   "metadata": {},
   "cell_type": "code",
   "outputs": [],
   "execution_count": null,
   "source": "",
   "id": "4c5f4ef7e8137654"
  },
  {
   "metadata": {},
   "cell_type": "markdown",
   "source": "1.6.3 To do",
   "id": "85a7da61f28b82a6"
  },
  {
   "metadata": {},
   "cell_type": "code",
   "outputs": [],
   "execution_count": null,
   "source": "",
   "id": "87dbd757dfa454bf"
  },
  {
   "metadata": {},
   "cell_type": "markdown",
   "source": "1.6.4 To do",
   "id": "6047310b25d3eb1f"
  },
  {
   "metadata": {},
   "cell_type": "code",
   "outputs": [],
   "execution_count": null,
   "source": "",
   "id": "f325d440b576b132"
  },
  {
   "metadata": {},
   "cell_type": "markdown",
   "source": "<h1>2. Outliers</h1>",
   "id": "789419316498cd71"
  },
  {
   "metadata": {},
   "cell_type": "code",
   "outputs": [],
   "execution_count": null,
   "source": "",
   "id": "5d151935dcda7b34"
  },
  {
   "metadata": {},
   "cell_type": "markdown",
   "source": "<h1>3. Statistical calculations</h1>",
   "id": "689bd688fcf1ec9"
  },
  {
   "metadata": {},
   "cell_type": "markdown",
   "source": "3.1. the average number of new illnesses, deaths and vaccinations for at least 10 selected countries in a selected month",
   "id": "dc76c0d41b08f847"
  },
  {
   "metadata": {},
   "cell_type": "code",
   "outputs": [],
   "execution_count": null,
   "source": "",
   "id": "58ac802c0c704fb4"
  },
  {
   "metadata": {},
   "cell_type": "markdown",
   "source": "3.2. the average change in the number of illnesses, deaths and vaccinations for at least 10 selected countries in the selected month",
   "id": "215ce75c481db16b"
  },
  {
   "metadata": {},
   "cell_type": "code",
   "outputs": [],
   "execution_count": null,
   "source": "",
   "id": "bcfe178e1a7a6239"
  },
  {
   "metadata": {},
   "cell_type": "markdown",
   "source": "3.3. median number of new illnesses, deaths and vaccinations for at least 10 selected countries in a selected month",
   "id": "d65dc66adaa407c6"
  },
  {
   "metadata": {},
   "cell_type": "code",
   "outputs": [],
   "execution_count": null,
   "source": "",
   "id": "bac8754445798dc5"
  },
  {
   "metadata": {},
   "cell_type": "markdown",
   "source": "3.4. the standard deviation of the number of new cases, deaths and vaccinations for at least 10 selected countries in the selected month",
   "id": "1dae1bb76415c2e8"
  },
  {
   "metadata": {},
   "cell_type": "code",
   "outputs": [],
   "execution_count": null,
   "source": "",
   "id": "a6cca27bd81a7467"
  },
  {
   "metadata": {},
   "cell_type": "markdown",
   "source": "3.5. minimum, average and maximum number of new illnesses, vaccinations and deaths, and GDP of at least 10 selected countries",
   "id": "5846ded6f6456f08"
  },
  {
   "metadata": {},
   "cell_type": "code",
   "outputs": [],
   "execution_count": null,
   "source": "",
   "id": "f41b097115e1f93c"
  },
  {
   "metadata": {},
   "cell_type": "markdown",
   "source": "3.6. minimum, average, and maximum number of new illnesses, vaccinations, and deaths, and the population of at least 10 selected countries",
   "id": "2083e5629f3b0910"
  },
  {
   "metadata": {},
   "cell_type": "code",
   "outputs": [],
   "execution_count": null,
   "source": "",
   "id": "ce8df895e0bcf561"
  },
  {
   "metadata": {},
   "cell_type": "markdown",
   "source": "<h1>4. Data normalization</h1>",
   "id": "743c406c3b9c3927"
  },
  {
   "metadata": {},
   "cell_type": "markdown",
   "source": "4.1. the number of illnesses per the number of people you specify (e.g., per 1,000 people)",
   "id": "4b0b28cb24a0794e"
  },
  {
   "metadata": {},
   "cell_type": "code",
   "outputs": [],
   "execution_count": null,
   "source": "",
   "id": "b238bb572cd3d129"
  },
  {
   "metadata": {},
   "cell_type": "markdown",
   "source": "4.2. the number of vaccinations per the number of people you specify (e.g., per 1,000 people)",
   "id": "e86901288caa6a42"
  },
  {
   "metadata": {},
   "cell_type": "code",
   "outputs": [],
   "execution_count": null,
   "source": "",
   "id": "9485b606e059c3de"
  },
  {
   "metadata": {},
   "cell_type": "markdown",
   "source": "4.3. the number of deaths per the number of people you specify (e.g., per 1,000 people)",
   "id": "4dcfb74521dd882d"
  },
  {
   "metadata": {},
   "cell_type": "code",
   "outputs": [],
   "execution_count": null,
   "source": "",
   "id": "d4338772f2a91bb"
  },
  {
   "metadata": {},
   "cell_type": "markdown",
   "source": "4.4.1 to do",
   "id": "79176043f3f6b034"
  },
  {
   "metadata": {},
   "cell_type": "code",
   "outputs": [],
   "execution_count": null,
   "source": "",
   "id": "fb59f94c99d1d7e5"
  },
  {
   "metadata": {},
   "cell_type": "markdown",
   "source": "4.4.2 to do",
   "id": "1269e945b6f69056"
  },
  {
   "metadata": {},
   "cell_type": "code",
   "outputs": [],
   "execution_count": null,
   "source": "",
   "id": "d83898cebb9925c6"
  },
  {
   "metadata": {},
   "cell_type": "markdown",
   "source": "4.4.3 to do",
   "id": "9dd14549034848f4"
  },
  {
   "metadata": {},
   "cell_type": "code",
   "outputs": [],
   "execution_count": null,
   "source": "",
   "id": "c63756c6ea53aec9"
  },
  {
   "metadata": {},
   "cell_type": "markdown",
   "source": "4.4.4 to do",
   "id": "aa40ae29c9cc6b05"
  },
  {
   "metadata": {},
   "cell_type": "code",
   "outputs": [],
   "execution_count": null,
   "source": "",
   "id": "37d7395f76f3ab85"
  },
  {
   "metadata": {},
   "cell_type": "markdown",
   "source": "4.5 Charts",
   "id": "e7caf9169d3c711e"
  },
  {
   "metadata": {},
   "cell_type": "code",
   "outputs": [],
   "execution_count": null,
   "source": "",
   "id": "2fe738b496b0ed91"
  },
  {
   "metadata": {},
   "cell_type": "markdown",
   "source": "<h1>5. Data correlation</h1>",
   "id": "9e0cf6fac6f104e9"
  },
  {
   "metadata": {},
   "cell_type": "code",
   "outputs": [],
   "execution_count": null,
   "source": "",
   "id": "2c9845d875fa02de"
  }
 ],
 "metadata": {
  "kernelspec": {
   "display_name": "Python 3",
   "language": "python",
   "name": "python3"
  },
  "language_info": {
   "codemirror_mode": {
    "name": "ipython",
    "version": 2
   },
   "file_extension": ".py",
   "mimetype": "text/x-python",
   "name": "python",
   "nbconvert_exporter": "python",
   "pygments_lexer": "ipython2",
   "version": "2.7.6"
  }
 },
 "nbformat": 4,
 "nbformat_minor": 5
}
